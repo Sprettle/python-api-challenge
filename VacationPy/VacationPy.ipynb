{
 "cells": [
  {
   "cell_type": "markdown",
   "metadata": {},
   "source": [
    "# VacationPy\n",
    "----\n",
    "\n",
    "#### Note\n",
    "* Keep an eye on your API usage. Use https://developers.google.com/maps/reporting/gmp-reporting as reference for how to monitor your usage and billing.\n",
    "\n",
    "* Instructions have been included for each segment. You do not have to follow them exactly, but they are included to help you think through the steps."
   ]
  },
  {
   "cell_type": "code",
   "execution_count": 41,
   "metadata": {},
   "outputs": [],
   "source": [
    "# Dependencies and Setup\n",
    "import matplotlib.pyplot as plt\n",
    "import pandas as pd\n",
    "import numpy as np\n",
    "import requests\n",
    "import gmaps\n",
    "import os\n",
    "\n",
    "# Import API key\n",
    "from api_keys import g_key"
   ]
  },
  {
   "cell_type": "markdown",
   "metadata": {},
   "source": [
    "### Store Part I results into DataFrame\n",
    "* Load the csv exported in Part I to a DataFrame"
   ]
  },
  {
   "cell_type": "code",
   "execution_count": 42,
   "metadata": {},
   "outputs": [
    {
     "output_type": "execute_result",
     "data": {
      "text/plain": [
       "   Unnamed: 0            City Country        Date  Latitude  Longitude  \\\n",
       "0           0     burlatskoye      RU  1612079537   45.0564    43.6350   \n",
       "1           1  saint-philippe      RE  1612079537  -21.3585    55.7679   \n",
       "2           2       busselton      AU  1612079537  -33.6500   115.3333   \n",
       "3           3        karratha      AU  1612079537  -20.7377   116.8463   \n",
       "4           4     balaipungut      ID  1612079538    1.0500   101.2833   \n",
       "\n",
       "   Max Temperature  Humidity  Cloudiness  Wind Speed  \n",
       "0             4.03        83         100        4.23  \n",
       "1            32.00        58           0       11.83  \n",
       "2            33.33        43           0        4.02  \n",
       "3            31.90        58         100        9.21  \n",
       "4            30.00        58          40        0.45  "
      ],
      "text/html": "<div>\n<style scoped>\n    .dataframe tbody tr th:only-of-type {\n        vertical-align: middle;\n    }\n\n    .dataframe tbody tr th {\n        vertical-align: top;\n    }\n\n    .dataframe thead th {\n        text-align: right;\n    }\n</style>\n<table border=\"1\" class=\"dataframe\">\n  <thead>\n    <tr style=\"text-align: right;\">\n      <th></th>\n      <th>Unnamed: 0</th>\n      <th>City</th>\n      <th>Country</th>\n      <th>Date</th>\n      <th>Latitude</th>\n      <th>Longitude</th>\n      <th>Max Temperature</th>\n      <th>Humidity</th>\n      <th>Cloudiness</th>\n      <th>Wind Speed</th>\n    </tr>\n  </thead>\n  <tbody>\n    <tr>\n      <th>0</th>\n      <td>0</td>\n      <td>burlatskoye</td>\n      <td>RU</td>\n      <td>1612079537</td>\n      <td>45.0564</td>\n      <td>43.6350</td>\n      <td>4.03</td>\n      <td>83</td>\n      <td>100</td>\n      <td>4.23</td>\n    </tr>\n    <tr>\n      <th>1</th>\n      <td>1</td>\n      <td>saint-philippe</td>\n      <td>RE</td>\n      <td>1612079537</td>\n      <td>-21.3585</td>\n      <td>55.7679</td>\n      <td>32.00</td>\n      <td>58</td>\n      <td>0</td>\n      <td>11.83</td>\n    </tr>\n    <tr>\n      <th>2</th>\n      <td>2</td>\n      <td>busselton</td>\n      <td>AU</td>\n      <td>1612079537</td>\n      <td>-33.6500</td>\n      <td>115.3333</td>\n      <td>33.33</td>\n      <td>43</td>\n      <td>0</td>\n      <td>4.02</td>\n    </tr>\n    <tr>\n      <th>3</th>\n      <td>3</td>\n      <td>karratha</td>\n      <td>AU</td>\n      <td>1612079537</td>\n      <td>-20.7377</td>\n      <td>116.8463</td>\n      <td>31.90</td>\n      <td>58</td>\n      <td>100</td>\n      <td>9.21</td>\n    </tr>\n    <tr>\n      <th>4</th>\n      <td>4</td>\n      <td>balaipungut</td>\n      <td>ID</td>\n      <td>1612079538</td>\n      <td>1.0500</td>\n      <td>101.2833</td>\n      <td>30.00</td>\n      <td>58</td>\n      <td>40</td>\n      <td>0.45</td>\n    </tr>\n  </tbody>\n</table>\n</div>"
     },
     "metadata": {},
     "execution_count": 42
    }
   ],
   "source": [
    "file = \"..\\output_data\\city.csv\"\n",
    "city_df = pd.read_csv(file)\n",
    "city_df.head()\n"
   ]
  },
  {
   "cell_type": "markdown",
   "metadata": {},
   "source": [
    "### Humidity Heatmap\n",
    "* Configure gmaps.\n",
    "* Use the Lat and Lng as locations and Humidity as the weight.\n",
    "* Add Heatmap layer to map."
   ]
  },
  {
   "cell_type": "code",
   "execution_count": 43,
   "metadata": {},
   "outputs": [],
   "source": [
    "# Configure gmaps with API key\n",
    "gmaps.configure(api_key=g_key)\n",
    "\n",
    "locations = city_df[[\"Latitude\", \"Longitude\"]]\n",
    "humidity = city_df[\"Humidity\"]"
   ]
  },
  {
   "cell_type": "code",
   "execution_count": 44,
   "metadata": {},
   "outputs": [
    {
     "output_type": "display_data",
     "data": {
      "text/plain": "Figure(layout=FigureLayout(height='420px'))",
      "application/vnd.jupyter.widget-view+json": {
       "version_major": 2,
       "version_minor": 0,
       "model_id": "f80011b998ef4827aaacc1a21e57c7cd"
      }
     },
     "metadata": {}
    }
   ],
   "source": [
    "# Create Heatmap layer\n",
    "fig = gmaps.figure()\n",
    "\n",
    "heat_layer = gmaps.heatmap_layer(locations,weights=humidity,dissipating=False, max_intensity=100,point_radius = 2)\n",
    "\n",
    "fig.add_layer(heat_layer)\n",
    "\n",
    "fig"
   ]
  },
  {
   "cell_type": "markdown",
   "metadata": {},
   "source": [
    "### Create new DataFrame fitting weather criteria\n",
    "* Narrow down the cities to fit weather conditions.\n",
    "* Drop any rows will null values."
   ]
  },
  {
   "cell_type": "code",
   "execution_count": 45,
   "metadata": {},
   "outputs": [
    {
     "output_type": "execute_result",
     "data": {
      "text/plain": [
       "     Unnamed: 0            City Country        Date  Latitude  Longitude  \\\n",
       "24           24      bredasdorp      ZA  1612079540  -34.5322    20.0403   \n",
       "40           40  port elizabeth      ZA  1612079542  -33.9180    25.5701   \n",
       "67           67      coahuayana      MX  1612079547   18.7333  -103.6833   \n",
       "81           81          ormara      PK  1612079549   25.2088    64.6357   \n",
       "99           99           pisco      PE  1612079397  -13.7000   -76.2167   \n",
       "111         111        salumbar      IN  1612079335   24.1333    74.0500   \n",
       "137         137      port blair      IN  1612079557   11.6667    92.7500   \n",
       "171         171          canton      CN  1612079341   23.1167   113.2500   \n",
       "182         182           wamba      NG  1612079563    8.9333     8.6000   \n",
       "196         196        umm lajj      SA  1612079565   25.0213    37.2685   \n",
       "235         235       dhandhuka      IN  1612079571   22.3667    71.9833   \n",
       "247         247    kruisfontein      ZA  1612079573  -34.0033    24.7314   \n",
       "252         252       esperance      AU  1612079573  -33.8667   121.9000   \n",
       "296         296      vila velha      BR  1612079363  -20.3297   -40.2925   \n",
       "314         314          moerai      PF  1612079585  -22.4333  -151.3333   \n",
       "315         315          beboto      TD  1612079585    8.2668    16.9390   \n",
       "326         326           macae      BR  1612079588  -22.3708   -41.7869   \n",
       "338         338           mansa      IN  1612079590   29.9833    75.3833   \n",
       "365         365  kulhudhuffushi      MV  1612079594    6.6221    73.0700   \n",
       "385         385      hervey bay      AU  1612079597  -25.2986   152.8535   \n",
       "401         401            lima      PE  1612079326  -12.0432   -77.0282   \n",
       "415         415         sitamau      IN  1612079509   24.0167    75.3500   \n",
       "421         421   mount gambier      AU  1612079317  -37.8333   140.7667   \n",
       "432         432           bilma      NE  1612079604   18.6853    12.9164   \n",
       "434         434         tsabong      BW  1612079605  -26.0217    22.4010   \n",
       "435         435       morondava      MG  1612079397  -20.2833    44.2833   \n",
       "438         438          bauchi      NG  1612079505   10.5000    10.0000   \n",
       "442         442       dhidhdhoo      MV  1612079606    6.8833    73.1000   \n",
       "456         456   florianopolis      BR  1612079608  -27.6146   -48.5012   \n",
       "462         462          xuddur      SO  1612079609    4.1213    43.8894   \n",
       "481         481         pokaran      IN  1612079613   26.9167    71.9167   \n",
       "482         482             sur      OM  1612079389   22.5667    59.5289   \n",
       "493         493            faya      SA  1612079614   18.3851    42.4509   \n",
       "494         494        chakulia      IN  1612079615   22.4833    86.7167   \n",
       "506         506           basti      IN  1612079616   26.8000    82.7167   \n",
       "519         519         prieska      ZA  1612079618  -29.6641    22.7474   \n",
       "\n",
       "     Max Temperature  Humidity  Cloudiness  Wind Speed  \n",
       "24             26.11        64           0        3.13  \n",
       "40             24.00        60           0        2.57  \n",
       "67             22.37        82           0        1.29  \n",
       "81             22.61        56           0        6.32  \n",
       "99             21.00        73           0        2.06  \n",
       "111            23.00        20           0        2.06  \n",
       "137            28.36        67           0        5.00  \n",
       "171            25.00        36           0        2.00  \n",
       "182            27.08        16           0        1.52  \n",
       "196            22.69        28           0        4.38  \n",
       "235            29.76        13           0        2.76  \n",
       "247            27.78        49           0        0.89  \n",
       "252            27.00        44           0        9.77  \n",
       "296            24.00        83           0        1.54  \n",
       "314            26.82        67           0        2.14  \n",
       "315            28.85        15           0        2.48  \n",
       "326            22.00        94           0        1.03  \n",
       "338            23.91        18           0        1.71  \n",
       "365            27.83        69           0        3.65  \n",
       "385            29.00        54           0        7.72  \n",
       "401            21.67        83           0        3.60  \n",
       "415            24.73        17           0        2.06  \n",
       "421            21.00        49           0        7.20  \n",
       "432            20.20        21           0        2.47  \n",
       "434            29.36        42           0        3.05  \n",
       "435            29.98        63           0        1.79  \n",
       "438            22.50        21           0        2.48  \n",
       "442            27.87        69           0        3.64  \n",
       "456            26.00        89           0        1.54  \n",
       "462            29.35        29           0        8.21  \n",
       "481            26.74        12           0        3.15  \n",
       "482            24.90        40           0        2.97  \n",
       "493            21.00        26           0        2.06  \n",
       "494            23.00        18           0        2.06  \n",
       "506            20.59        33           0        2.27  \n",
       "519            29.33        13           0        2.59  "
      ],
      "text/html": "<div>\n<style scoped>\n    .dataframe tbody tr th:only-of-type {\n        vertical-align: middle;\n    }\n\n    .dataframe tbody tr th {\n        vertical-align: top;\n    }\n\n    .dataframe thead th {\n        text-align: right;\n    }\n</style>\n<table border=\"1\" class=\"dataframe\">\n  <thead>\n    <tr style=\"text-align: right;\">\n      <th></th>\n      <th>Unnamed: 0</th>\n      <th>City</th>\n      <th>Country</th>\n      <th>Date</th>\n      <th>Latitude</th>\n      <th>Longitude</th>\n      <th>Max Temperature</th>\n      <th>Humidity</th>\n      <th>Cloudiness</th>\n      <th>Wind Speed</th>\n    </tr>\n  </thead>\n  <tbody>\n    <tr>\n      <th>24</th>\n      <td>24</td>\n      <td>bredasdorp</td>\n      <td>ZA</td>\n      <td>1612079540</td>\n      <td>-34.5322</td>\n      <td>20.0403</td>\n      <td>26.11</td>\n      <td>64</td>\n      <td>0</td>\n      <td>3.13</td>\n    </tr>\n    <tr>\n      <th>40</th>\n      <td>40</td>\n      <td>port elizabeth</td>\n      <td>ZA</td>\n      <td>1612079542</td>\n      <td>-33.9180</td>\n      <td>25.5701</td>\n      <td>24.00</td>\n      <td>60</td>\n      <td>0</td>\n      <td>2.57</td>\n    </tr>\n    <tr>\n      <th>67</th>\n      <td>67</td>\n      <td>coahuayana</td>\n      <td>MX</td>\n      <td>1612079547</td>\n      <td>18.7333</td>\n      <td>-103.6833</td>\n      <td>22.37</td>\n      <td>82</td>\n      <td>0</td>\n      <td>1.29</td>\n    </tr>\n    <tr>\n      <th>81</th>\n      <td>81</td>\n      <td>ormara</td>\n      <td>PK</td>\n      <td>1612079549</td>\n      <td>25.2088</td>\n      <td>64.6357</td>\n      <td>22.61</td>\n      <td>56</td>\n      <td>0</td>\n      <td>6.32</td>\n    </tr>\n    <tr>\n      <th>99</th>\n      <td>99</td>\n      <td>pisco</td>\n      <td>PE</td>\n      <td>1612079397</td>\n      <td>-13.7000</td>\n      <td>-76.2167</td>\n      <td>21.00</td>\n      <td>73</td>\n      <td>0</td>\n      <td>2.06</td>\n    </tr>\n    <tr>\n      <th>111</th>\n      <td>111</td>\n      <td>salumbar</td>\n      <td>IN</td>\n      <td>1612079335</td>\n      <td>24.1333</td>\n      <td>74.0500</td>\n      <td>23.00</td>\n      <td>20</td>\n      <td>0</td>\n      <td>2.06</td>\n    </tr>\n    <tr>\n      <th>137</th>\n      <td>137</td>\n      <td>port blair</td>\n      <td>IN</td>\n      <td>1612079557</td>\n      <td>11.6667</td>\n      <td>92.7500</td>\n      <td>28.36</td>\n      <td>67</td>\n      <td>0</td>\n      <td>5.00</td>\n    </tr>\n    <tr>\n      <th>171</th>\n      <td>171</td>\n      <td>canton</td>\n      <td>CN</td>\n      <td>1612079341</td>\n      <td>23.1167</td>\n      <td>113.2500</td>\n      <td>25.00</td>\n      <td>36</td>\n      <td>0</td>\n      <td>2.00</td>\n    </tr>\n    <tr>\n      <th>182</th>\n      <td>182</td>\n      <td>wamba</td>\n      <td>NG</td>\n      <td>1612079563</td>\n      <td>8.9333</td>\n      <td>8.6000</td>\n      <td>27.08</td>\n      <td>16</td>\n      <td>0</td>\n      <td>1.52</td>\n    </tr>\n    <tr>\n      <th>196</th>\n      <td>196</td>\n      <td>umm lajj</td>\n      <td>SA</td>\n      <td>1612079565</td>\n      <td>25.0213</td>\n      <td>37.2685</td>\n      <td>22.69</td>\n      <td>28</td>\n      <td>0</td>\n      <td>4.38</td>\n    </tr>\n    <tr>\n      <th>235</th>\n      <td>235</td>\n      <td>dhandhuka</td>\n      <td>IN</td>\n      <td>1612079571</td>\n      <td>22.3667</td>\n      <td>71.9833</td>\n      <td>29.76</td>\n      <td>13</td>\n      <td>0</td>\n      <td>2.76</td>\n    </tr>\n    <tr>\n      <th>247</th>\n      <td>247</td>\n      <td>kruisfontein</td>\n      <td>ZA</td>\n      <td>1612079573</td>\n      <td>-34.0033</td>\n      <td>24.7314</td>\n      <td>27.78</td>\n      <td>49</td>\n      <td>0</td>\n      <td>0.89</td>\n    </tr>\n    <tr>\n      <th>252</th>\n      <td>252</td>\n      <td>esperance</td>\n      <td>AU</td>\n      <td>1612079573</td>\n      <td>-33.8667</td>\n      <td>121.9000</td>\n      <td>27.00</td>\n      <td>44</td>\n      <td>0</td>\n      <td>9.77</td>\n    </tr>\n    <tr>\n      <th>296</th>\n      <td>296</td>\n      <td>vila velha</td>\n      <td>BR</td>\n      <td>1612079363</td>\n      <td>-20.3297</td>\n      <td>-40.2925</td>\n      <td>24.00</td>\n      <td>83</td>\n      <td>0</td>\n      <td>1.54</td>\n    </tr>\n    <tr>\n      <th>314</th>\n      <td>314</td>\n      <td>moerai</td>\n      <td>PF</td>\n      <td>1612079585</td>\n      <td>-22.4333</td>\n      <td>-151.3333</td>\n      <td>26.82</td>\n      <td>67</td>\n      <td>0</td>\n      <td>2.14</td>\n    </tr>\n    <tr>\n      <th>315</th>\n      <td>315</td>\n      <td>beboto</td>\n      <td>TD</td>\n      <td>1612079585</td>\n      <td>8.2668</td>\n      <td>16.9390</td>\n      <td>28.85</td>\n      <td>15</td>\n      <td>0</td>\n      <td>2.48</td>\n    </tr>\n    <tr>\n      <th>326</th>\n      <td>326</td>\n      <td>macae</td>\n      <td>BR</td>\n      <td>1612079588</td>\n      <td>-22.3708</td>\n      <td>-41.7869</td>\n      <td>22.00</td>\n      <td>94</td>\n      <td>0</td>\n      <td>1.03</td>\n    </tr>\n    <tr>\n      <th>338</th>\n      <td>338</td>\n      <td>mansa</td>\n      <td>IN</td>\n      <td>1612079590</td>\n      <td>29.9833</td>\n      <td>75.3833</td>\n      <td>23.91</td>\n      <td>18</td>\n      <td>0</td>\n      <td>1.71</td>\n    </tr>\n    <tr>\n      <th>365</th>\n      <td>365</td>\n      <td>kulhudhuffushi</td>\n      <td>MV</td>\n      <td>1612079594</td>\n      <td>6.6221</td>\n      <td>73.0700</td>\n      <td>27.83</td>\n      <td>69</td>\n      <td>0</td>\n      <td>3.65</td>\n    </tr>\n    <tr>\n      <th>385</th>\n      <td>385</td>\n      <td>hervey bay</td>\n      <td>AU</td>\n      <td>1612079597</td>\n      <td>-25.2986</td>\n      <td>152.8535</td>\n      <td>29.00</td>\n      <td>54</td>\n      <td>0</td>\n      <td>7.72</td>\n    </tr>\n    <tr>\n      <th>401</th>\n      <td>401</td>\n      <td>lima</td>\n      <td>PE</td>\n      <td>1612079326</td>\n      <td>-12.0432</td>\n      <td>-77.0282</td>\n      <td>21.67</td>\n      <td>83</td>\n      <td>0</td>\n      <td>3.60</td>\n    </tr>\n    <tr>\n      <th>415</th>\n      <td>415</td>\n      <td>sitamau</td>\n      <td>IN</td>\n      <td>1612079509</td>\n      <td>24.0167</td>\n      <td>75.3500</td>\n      <td>24.73</td>\n      <td>17</td>\n      <td>0</td>\n      <td>2.06</td>\n    </tr>\n    <tr>\n      <th>421</th>\n      <td>421</td>\n      <td>mount gambier</td>\n      <td>AU</td>\n      <td>1612079317</td>\n      <td>-37.8333</td>\n      <td>140.7667</td>\n      <td>21.00</td>\n      <td>49</td>\n      <td>0</td>\n      <td>7.20</td>\n    </tr>\n    <tr>\n      <th>432</th>\n      <td>432</td>\n      <td>bilma</td>\n      <td>NE</td>\n      <td>1612079604</td>\n      <td>18.6853</td>\n      <td>12.9164</td>\n      <td>20.20</td>\n      <td>21</td>\n      <td>0</td>\n      <td>2.47</td>\n    </tr>\n    <tr>\n      <th>434</th>\n      <td>434</td>\n      <td>tsabong</td>\n      <td>BW</td>\n      <td>1612079605</td>\n      <td>-26.0217</td>\n      <td>22.4010</td>\n      <td>29.36</td>\n      <td>42</td>\n      <td>0</td>\n      <td>3.05</td>\n    </tr>\n    <tr>\n      <th>435</th>\n      <td>435</td>\n      <td>morondava</td>\n      <td>MG</td>\n      <td>1612079397</td>\n      <td>-20.2833</td>\n      <td>44.2833</td>\n      <td>29.98</td>\n      <td>63</td>\n      <td>0</td>\n      <td>1.79</td>\n    </tr>\n    <tr>\n      <th>438</th>\n      <td>438</td>\n      <td>bauchi</td>\n      <td>NG</td>\n      <td>1612079505</td>\n      <td>10.5000</td>\n      <td>10.0000</td>\n      <td>22.50</td>\n      <td>21</td>\n      <td>0</td>\n      <td>2.48</td>\n    </tr>\n    <tr>\n      <th>442</th>\n      <td>442</td>\n      <td>dhidhdhoo</td>\n      <td>MV</td>\n      <td>1612079606</td>\n      <td>6.8833</td>\n      <td>73.1000</td>\n      <td>27.87</td>\n      <td>69</td>\n      <td>0</td>\n      <td>3.64</td>\n    </tr>\n    <tr>\n      <th>456</th>\n      <td>456</td>\n      <td>florianopolis</td>\n      <td>BR</td>\n      <td>1612079608</td>\n      <td>-27.6146</td>\n      <td>-48.5012</td>\n      <td>26.00</td>\n      <td>89</td>\n      <td>0</td>\n      <td>1.54</td>\n    </tr>\n    <tr>\n      <th>462</th>\n      <td>462</td>\n      <td>xuddur</td>\n      <td>SO</td>\n      <td>1612079609</td>\n      <td>4.1213</td>\n      <td>43.8894</td>\n      <td>29.35</td>\n      <td>29</td>\n      <td>0</td>\n      <td>8.21</td>\n    </tr>\n    <tr>\n      <th>481</th>\n      <td>481</td>\n      <td>pokaran</td>\n      <td>IN</td>\n      <td>1612079613</td>\n      <td>26.9167</td>\n      <td>71.9167</td>\n      <td>26.74</td>\n      <td>12</td>\n      <td>0</td>\n      <td>3.15</td>\n    </tr>\n    <tr>\n      <th>482</th>\n      <td>482</td>\n      <td>sur</td>\n      <td>OM</td>\n      <td>1612079389</td>\n      <td>22.5667</td>\n      <td>59.5289</td>\n      <td>24.90</td>\n      <td>40</td>\n      <td>0</td>\n      <td>2.97</td>\n    </tr>\n    <tr>\n      <th>493</th>\n      <td>493</td>\n      <td>faya</td>\n      <td>SA</td>\n      <td>1612079614</td>\n      <td>18.3851</td>\n      <td>42.4509</td>\n      <td>21.00</td>\n      <td>26</td>\n      <td>0</td>\n      <td>2.06</td>\n    </tr>\n    <tr>\n      <th>494</th>\n      <td>494</td>\n      <td>chakulia</td>\n      <td>IN</td>\n      <td>1612079615</td>\n      <td>22.4833</td>\n      <td>86.7167</td>\n      <td>23.00</td>\n      <td>18</td>\n      <td>0</td>\n      <td>2.06</td>\n    </tr>\n    <tr>\n      <th>506</th>\n      <td>506</td>\n      <td>basti</td>\n      <td>IN</td>\n      <td>1612079616</td>\n      <td>26.8000</td>\n      <td>82.7167</td>\n      <td>20.59</td>\n      <td>33</td>\n      <td>0</td>\n      <td>2.27</td>\n    </tr>\n    <tr>\n      <th>519</th>\n      <td>519</td>\n      <td>prieska</td>\n      <td>ZA</td>\n      <td>1612079618</td>\n      <td>-29.6641</td>\n      <td>22.7474</td>\n      <td>29.33</td>\n      <td>13</td>\n      <td>0</td>\n      <td>2.59</td>\n    </tr>\n  </tbody>\n</table>\n</div>"
     },
     "metadata": {},
     "execution_count": 45
    }
   ],
   "source": [
    "# Narrow down cities to ideal conditions \n",
    "ideal_city_df = city_df.loc[(city_df[\"Wind Speed\"]< 10) & (city_df[\"Cloudiness\"] == 0) & (city_df[\"Max Temperature\"]> 20) & (city_df[\"Max Temperature\"]< 32)].dropna()\n",
    "\n",
    "ideal_city_df\n"
   ]
  },
  {
   "cell_type": "markdown",
   "metadata": {},
   "source": [
    "### Hotel Map\n",
    "* Store into variable named `hotel_df`.\n",
    "* Add a \"Hotel Name\" column to the DataFrame.\n",
    "* Set parameters to search for hotels with 5000 meters.\n",
    "* Hit the Google Places API for each city's coordinates.\n",
    "* Store the first Hotel result into the DataFrame.\n",
    "* Plot markers on top of the heatmap."
   ]
  },
  {
   "cell_type": "code",
   "execution_count": 46,
   "metadata": {},
   "outputs": [
    {
     "output_type": "stream",
     "name": "stdout",
     "text": [
      " no results... skipping\n"
     ]
    }
   ],
   "source": [
    "# Store into variable named hotel_df\n",
    "hotel_df = ideal_city_df\n",
    "\n",
    "# Add a \"Hotel Name\" column to the DataFrame\n",
    "hotel_df[\"Hotel Name\"] = \"\"\n",
    "\n",
    "# Set parameters to search for hotels with 5000 meters\n",
    "params = {\"radius\": 50000, \"types\": \"hotel\", \"keyword\": \"hotels\", \"key\": g_key}\n",
    "\n",
    "url = \"https://maps.googleapis.com/maps/api/place/nearbysearch/json\"\n",
    "\n",
    "for index, row in hotel_df.iterrows():\n",
    "    \n",
    "    lat = row.Latitude\n",
    "    lng = row.Longitude\n",
    "\n",
    "    params[\"location\"] = f\"{lat},{lng}\"\n",
    "\n",
    "    hotel_name = requests.get(url,params=params).json()\n",
    "\n",
    "    try: \n",
    "        hotel_df.loc[index,\"Hotel Name\"] = hotel_name[\"results\"][0][\"name\"]\n",
    "\n",
    "    except(KeyError, IndexError):\n",
    "        print(\" no results... skipping\")\n"
   ]
  },
  {
   "cell_type": "code",
   "execution_count": 47,
   "metadata": {},
   "outputs": [
    {
     "output_type": "execute_result",
     "data": {
      "text/plain": [
       "     Unnamed: 0            City Country        Date  Latitude  Longitude  \\\n",
       "24           24      bredasdorp      ZA  1612079540  -34.5322    20.0403   \n",
       "40           40  port elizabeth      ZA  1612079542  -33.9180    25.5701   \n",
       "67           67      coahuayana      MX  1612079547   18.7333  -103.6833   \n",
       "81           81          ormara      PK  1612079549   25.2088    64.6357   \n",
       "99           99           pisco      PE  1612079397  -13.7000   -76.2167   \n",
       "111         111        salumbar      IN  1612079335   24.1333    74.0500   \n",
       "137         137      port blair      IN  1612079557   11.6667    92.7500   \n",
       "171         171          canton      CN  1612079341   23.1167   113.2500   \n",
       "182         182           wamba      NG  1612079563    8.9333     8.6000   \n",
       "196         196        umm lajj      SA  1612079565   25.0213    37.2685   \n",
       "235         235       dhandhuka      IN  1612079571   22.3667    71.9833   \n",
       "247         247    kruisfontein      ZA  1612079573  -34.0033    24.7314   \n",
       "252         252       esperance      AU  1612079573  -33.8667   121.9000   \n",
       "296         296      vila velha      BR  1612079363  -20.3297   -40.2925   \n",
       "314         314          moerai      PF  1612079585  -22.4333  -151.3333   \n",
       "315         315          beboto      TD  1612079585    8.2668    16.9390   \n",
       "326         326           macae      BR  1612079588  -22.3708   -41.7869   \n",
       "338         338           mansa      IN  1612079590   29.9833    75.3833   \n",
       "365         365  kulhudhuffushi      MV  1612079594    6.6221    73.0700   \n",
       "385         385      hervey bay      AU  1612079597  -25.2986   152.8535   \n",
       "401         401            lima      PE  1612079326  -12.0432   -77.0282   \n",
       "415         415         sitamau      IN  1612079509   24.0167    75.3500   \n",
       "421         421   mount gambier      AU  1612079317  -37.8333   140.7667   \n",
       "432         432           bilma      NE  1612079604   18.6853    12.9164   \n",
       "434         434         tsabong      BW  1612079605  -26.0217    22.4010   \n",
       "435         435       morondava      MG  1612079397  -20.2833    44.2833   \n",
       "438         438          bauchi      NG  1612079505   10.5000    10.0000   \n",
       "442         442       dhidhdhoo      MV  1612079606    6.8833    73.1000   \n",
       "456         456   florianopolis      BR  1612079608  -27.6146   -48.5012   \n",
       "462         462          xuddur      SO  1612079609    4.1213    43.8894   \n",
       "481         481         pokaran      IN  1612079613   26.9167    71.9167   \n",
       "482         482             sur      OM  1612079389   22.5667    59.5289   \n",
       "493         493            faya      SA  1612079614   18.3851    42.4509   \n",
       "494         494        chakulia      IN  1612079615   22.4833    86.7167   \n",
       "506         506           basti      IN  1612079616   26.8000    82.7167   \n",
       "519         519         prieska      ZA  1612079618  -29.6641    22.7474   \n",
       "\n",
       "     Max Temperature  Humidity  Cloudiness  Wind Speed  \\\n",
       "24             26.11        64           0        3.13   \n",
       "40             24.00        60           0        2.57   \n",
       "67             22.37        82           0        1.29   \n",
       "81             22.61        56           0        6.32   \n",
       "99             21.00        73           0        2.06   \n",
       "111            23.00        20           0        2.06   \n",
       "137            28.36        67           0        5.00   \n",
       "171            25.00        36           0        2.00   \n",
       "182            27.08        16           0        1.52   \n",
       "196            22.69        28           0        4.38   \n",
       "235            29.76        13           0        2.76   \n",
       "247            27.78        49           0        0.89   \n",
       "252            27.00        44           0        9.77   \n",
       "296            24.00        83           0        1.54   \n",
       "314            26.82        67           0        2.14   \n",
       "315            28.85        15           0        2.48   \n",
       "326            22.00        94           0        1.03   \n",
       "338            23.91        18           0        1.71   \n",
       "365            27.83        69           0        3.65   \n",
       "385            29.00        54           0        7.72   \n",
       "401            21.67        83           0        3.60   \n",
       "415            24.73        17           0        2.06   \n",
       "421            21.00        49           0        7.20   \n",
       "432            20.20        21           0        2.47   \n",
       "434            29.36        42           0        3.05   \n",
       "435            29.98        63           0        1.79   \n",
       "438            22.50        21           0        2.48   \n",
       "442            27.87        69           0        3.64   \n",
       "456            26.00        89           0        1.54   \n",
       "462            29.35        29           0        8.21   \n",
       "481            26.74        12           0        3.15   \n",
       "482            24.90        40           0        2.97   \n",
       "493            21.00        26           0        2.06   \n",
       "494            23.00        18           0        2.06   \n",
       "506            20.59        33           0        2.27   \n",
       "519            29.33        13           0        2.59   \n",
       "\n",
       "                                     Hotel Name  \n",
       "24    Oceans Guest House & Luxurious Apartments  \n",
       "40                          Gorah Elephant Camp  \n",
       "67                     Hotel Cuyutlan Holistico  \n",
       "81                                  H.S.J Hotel  \n",
       "99                           Hotel Villa Jazmin  \n",
       "111                    Taj Lake Palace, Udaipur  \n",
       "137          Taj Exotica Resort & Spa, Andamans  \n",
       "171                                 Likto Hotel  \n",
       "182                            Esse Guest House  \n",
       "196                  Royal Tours Permanent Camp  \n",
       "235           Blackbuck Safari Lodge -Velavadar  \n",
       "247                 The Sands @ St. Francis Bay  \n",
       "252                            The Jetty Resort  \n",
       "296                     Hotel Senac Ilha do Boi  \n",
       "314                             VAITUMU VILLAGE  \n",
       "315                                     Olivier  \n",
       "326           Pousada Experience Joao Fernandes  \n",
       "338  Country Inn & Suites by Radisson, Bathinda  \n",
       "365   Hotel Fairmont Maldives - Sirru Fen Fushi  \n",
       "385                           Mantra Hervey Bay  \n",
       "401                     Country Club Lima Hotel  \n",
       "415                            Hotel City Crown  \n",
       "421                      The Barn Accommodation  \n",
       "432                                              \n",
       "434                              Dikukama Hotel  \n",
       "435         Palissandre Cote Ouest resort & SPA  \n",
       "438                               Rahama Suites  \n",
       "442        Hideaway Beach Resort & Spa Maldives  \n",
       "456              IL Campanario Villaggio Resort  \n",
       "462                             Hotel Kontome 2  \n",
       "481          WelcomHeritage Shri Mohangarh Fort  \n",
       "482                         Turtle Beach Resort  \n",
       "493                            Grand house abha  \n",
       "494                                 Rimil Lodge  \n",
       "506                   Ramprastha Hotel, Ayodhya  \n",
       "519                     Excelsior River Cottage  "
      ],
      "text/html": "<div>\n<style scoped>\n    .dataframe tbody tr th:only-of-type {\n        vertical-align: middle;\n    }\n\n    .dataframe tbody tr th {\n        vertical-align: top;\n    }\n\n    .dataframe thead th {\n        text-align: right;\n    }\n</style>\n<table border=\"1\" class=\"dataframe\">\n  <thead>\n    <tr style=\"text-align: right;\">\n      <th></th>\n      <th>Unnamed: 0</th>\n      <th>City</th>\n      <th>Country</th>\n      <th>Date</th>\n      <th>Latitude</th>\n      <th>Longitude</th>\n      <th>Max Temperature</th>\n      <th>Humidity</th>\n      <th>Cloudiness</th>\n      <th>Wind Speed</th>\n      <th>Hotel Name</th>\n    </tr>\n  </thead>\n  <tbody>\n    <tr>\n      <th>24</th>\n      <td>24</td>\n      <td>bredasdorp</td>\n      <td>ZA</td>\n      <td>1612079540</td>\n      <td>-34.5322</td>\n      <td>20.0403</td>\n      <td>26.11</td>\n      <td>64</td>\n      <td>0</td>\n      <td>3.13</td>\n      <td>Oceans Guest House &amp; Luxurious Apartments</td>\n    </tr>\n    <tr>\n      <th>40</th>\n      <td>40</td>\n      <td>port elizabeth</td>\n      <td>ZA</td>\n      <td>1612079542</td>\n      <td>-33.9180</td>\n      <td>25.5701</td>\n      <td>24.00</td>\n      <td>60</td>\n      <td>0</td>\n      <td>2.57</td>\n      <td>Gorah Elephant Camp</td>\n    </tr>\n    <tr>\n      <th>67</th>\n      <td>67</td>\n      <td>coahuayana</td>\n      <td>MX</td>\n      <td>1612079547</td>\n      <td>18.7333</td>\n      <td>-103.6833</td>\n      <td>22.37</td>\n      <td>82</td>\n      <td>0</td>\n      <td>1.29</td>\n      <td>Hotel Cuyutlan Holistico</td>\n    </tr>\n    <tr>\n      <th>81</th>\n      <td>81</td>\n      <td>ormara</td>\n      <td>PK</td>\n      <td>1612079549</td>\n      <td>25.2088</td>\n      <td>64.6357</td>\n      <td>22.61</td>\n      <td>56</td>\n      <td>0</td>\n      <td>6.32</td>\n      <td>H.S.J Hotel</td>\n    </tr>\n    <tr>\n      <th>99</th>\n      <td>99</td>\n      <td>pisco</td>\n      <td>PE</td>\n      <td>1612079397</td>\n      <td>-13.7000</td>\n      <td>-76.2167</td>\n      <td>21.00</td>\n      <td>73</td>\n      <td>0</td>\n      <td>2.06</td>\n      <td>Hotel Villa Jazmin</td>\n    </tr>\n    <tr>\n      <th>111</th>\n      <td>111</td>\n      <td>salumbar</td>\n      <td>IN</td>\n      <td>1612079335</td>\n      <td>24.1333</td>\n      <td>74.0500</td>\n      <td>23.00</td>\n      <td>20</td>\n      <td>0</td>\n      <td>2.06</td>\n      <td>Taj Lake Palace, Udaipur</td>\n    </tr>\n    <tr>\n      <th>137</th>\n      <td>137</td>\n      <td>port blair</td>\n      <td>IN</td>\n      <td>1612079557</td>\n      <td>11.6667</td>\n      <td>92.7500</td>\n      <td>28.36</td>\n      <td>67</td>\n      <td>0</td>\n      <td>5.00</td>\n      <td>Taj Exotica Resort &amp; Spa, Andamans</td>\n    </tr>\n    <tr>\n      <th>171</th>\n      <td>171</td>\n      <td>canton</td>\n      <td>CN</td>\n      <td>1612079341</td>\n      <td>23.1167</td>\n      <td>113.2500</td>\n      <td>25.00</td>\n      <td>36</td>\n      <td>0</td>\n      <td>2.00</td>\n      <td>Likto Hotel</td>\n    </tr>\n    <tr>\n      <th>182</th>\n      <td>182</td>\n      <td>wamba</td>\n      <td>NG</td>\n      <td>1612079563</td>\n      <td>8.9333</td>\n      <td>8.6000</td>\n      <td>27.08</td>\n      <td>16</td>\n      <td>0</td>\n      <td>1.52</td>\n      <td>Esse Guest House</td>\n    </tr>\n    <tr>\n      <th>196</th>\n      <td>196</td>\n      <td>umm lajj</td>\n      <td>SA</td>\n      <td>1612079565</td>\n      <td>25.0213</td>\n      <td>37.2685</td>\n      <td>22.69</td>\n      <td>28</td>\n      <td>0</td>\n      <td>4.38</td>\n      <td>Royal Tours Permanent Camp</td>\n    </tr>\n    <tr>\n      <th>235</th>\n      <td>235</td>\n      <td>dhandhuka</td>\n      <td>IN</td>\n      <td>1612079571</td>\n      <td>22.3667</td>\n      <td>71.9833</td>\n      <td>29.76</td>\n      <td>13</td>\n      <td>0</td>\n      <td>2.76</td>\n      <td>Blackbuck Safari Lodge -Velavadar</td>\n    </tr>\n    <tr>\n      <th>247</th>\n      <td>247</td>\n      <td>kruisfontein</td>\n      <td>ZA</td>\n      <td>1612079573</td>\n      <td>-34.0033</td>\n      <td>24.7314</td>\n      <td>27.78</td>\n      <td>49</td>\n      <td>0</td>\n      <td>0.89</td>\n      <td>The Sands @ St. Francis Bay</td>\n    </tr>\n    <tr>\n      <th>252</th>\n      <td>252</td>\n      <td>esperance</td>\n      <td>AU</td>\n      <td>1612079573</td>\n      <td>-33.8667</td>\n      <td>121.9000</td>\n      <td>27.00</td>\n      <td>44</td>\n      <td>0</td>\n      <td>9.77</td>\n      <td>The Jetty Resort</td>\n    </tr>\n    <tr>\n      <th>296</th>\n      <td>296</td>\n      <td>vila velha</td>\n      <td>BR</td>\n      <td>1612079363</td>\n      <td>-20.3297</td>\n      <td>-40.2925</td>\n      <td>24.00</td>\n      <td>83</td>\n      <td>0</td>\n      <td>1.54</td>\n      <td>Hotel Senac Ilha do Boi</td>\n    </tr>\n    <tr>\n      <th>314</th>\n      <td>314</td>\n      <td>moerai</td>\n      <td>PF</td>\n      <td>1612079585</td>\n      <td>-22.4333</td>\n      <td>-151.3333</td>\n      <td>26.82</td>\n      <td>67</td>\n      <td>0</td>\n      <td>2.14</td>\n      <td>VAITUMU VILLAGE</td>\n    </tr>\n    <tr>\n      <th>315</th>\n      <td>315</td>\n      <td>beboto</td>\n      <td>TD</td>\n      <td>1612079585</td>\n      <td>8.2668</td>\n      <td>16.9390</td>\n      <td>28.85</td>\n      <td>15</td>\n      <td>0</td>\n      <td>2.48</td>\n      <td>Olivier</td>\n    </tr>\n    <tr>\n      <th>326</th>\n      <td>326</td>\n      <td>macae</td>\n      <td>BR</td>\n      <td>1612079588</td>\n      <td>-22.3708</td>\n      <td>-41.7869</td>\n      <td>22.00</td>\n      <td>94</td>\n      <td>0</td>\n      <td>1.03</td>\n      <td>Pousada Experience Joao Fernandes</td>\n    </tr>\n    <tr>\n      <th>338</th>\n      <td>338</td>\n      <td>mansa</td>\n      <td>IN</td>\n      <td>1612079590</td>\n      <td>29.9833</td>\n      <td>75.3833</td>\n      <td>23.91</td>\n      <td>18</td>\n      <td>0</td>\n      <td>1.71</td>\n      <td>Country Inn &amp; Suites by Radisson, Bathinda</td>\n    </tr>\n    <tr>\n      <th>365</th>\n      <td>365</td>\n      <td>kulhudhuffushi</td>\n      <td>MV</td>\n      <td>1612079594</td>\n      <td>6.6221</td>\n      <td>73.0700</td>\n      <td>27.83</td>\n      <td>69</td>\n      <td>0</td>\n      <td>3.65</td>\n      <td>Hotel Fairmont Maldives - Sirru Fen Fushi</td>\n    </tr>\n    <tr>\n      <th>385</th>\n      <td>385</td>\n      <td>hervey bay</td>\n      <td>AU</td>\n      <td>1612079597</td>\n      <td>-25.2986</td>\n      <td>152.8535</td>\n      <td>29.00</td>\n      <td>54</td>\n      <td>0</td>\n      <td>7.72</td>\n      <td>Mantra Hervey Bay</td>\n    </tr>\n    <tr>\n      <th>401</th>\n      <td>401</td>\n      <td>lima</td>\n      <td>PE</td>\n      <td>1612079326</td>\n      <td>-12.0432</td>\n      <td>-77.0282</td>\n      <td>21.67</td>\n      <td>83</td>\n      <td>0</td>\n      <td>3.60</td>\n      <td>Country Club Lima Hotel</td>\n    </tr>\n    <tr>\n      <th>415</th>\n      <td>415</td>\n      <td>sitamau</td>\n      <td>IN</td>\n      <td>1612079509</td>\n      <td>24.0167</td>\n      <td>75.3500</td>\n      <td>24.73</td>\n      <td>17</td>\n      <td>0</td>\n      <td>2.06</td>\n      <td>Hotel City Crown</td>\n    </tr>\n    <tr>\n      <th>421</th>\n      <td>421</td>\n      <td>mount gambier</td>\n      <td>AU</td>\n      <td>1612079317</td>\n      <td>-37.8333</td>\n      <td>140.7667</td>\n      <td>21.00</td>\n      <td>49</td>\n      <td>0</td>\n      <td>7.20</td>\n      <td>The Barn Accommodation</td>\n    </tr>\n    <tr>\n      <th>432</th>\n      <td>432</td>\n      <td>bilma</td>\n      <td>NE</td>\n      <td>1612079604</td>\n      <td>18.6853</td>\n      <td>12.9164</td>\n      <td>20.20</td>\n      <td>21</td>\n      <td>0</td>\n      <td>2.47</td>\n      <td></td>\n    </tr>\n    <tr>\n      <th>434</th>\n      <td>434</td>\n      <td>tsabong</td>\n      <td>BW</td>\n      <td>1612079605</td>\n      <td>-26.0217</td>\n      <td>22.4010</td>\n      <td>29.36</td>\n      <td>42</td>\n      <td>0</td>\n      <td>3.05</td>\n      <td>Dikukama Hotel</td>\n    </tr>\n    <tr>\n      <th>435</th>\n      <td>435</td>\n      <td>morondava</td>\n      <td>MG</td>\n      <td>1612079397</td>\n      <td>-20.2833</td>\n      <td>44.2833</td>\n      <td>29.98</td>\n      <td>63</td>\n      <td>0</td>\n      <td>1.79</td>\n      <td>Palissandre Cote Ouest resort &amp; SPA</td>\n    </tr>\n    <tr>\n      <th>438</th>\n      <td>438</td>\n      <td>bauchi</td>\n      <td>NG</td>\n      <td>1612079505</td>\n      <td>10.5000</td>\n      <td>10.0000</td>\n      <td>22.50</td>\n      <td>21</td>\n      <td>0</td>\n      <td>2.48</td>\n      <td>Rahama Suites</td>\n    </tr>\n    <tr>\n      <th>442</th>\n      <td>442</td>\n      <td>dhidhdhoo</td>\n      <td>MV</td>\n      <td>1612079606</td>\n      <td>6.8833</td>\n      <td>73.1000</td>\n      <td>27.87</td>\n      <td>69</td>\n      <td>0</td>\n      <td>3.64</td>\n      <td>Hideaway Beach Resort &amp; Spa Maldives</td>\n    </tr>\n    <tr>\n      <th>456</th>\n      <td>456</td>\n      <td>florianopolis</td>\n      <td>BR</td>\n      <td>1612079608</td>\n      <td>-27.6146</td>\n      <td>-48.5012</td>\n      <td>26.00</td>\n      <td>89</td>\n      <td>0</td>\n      <td>1.54</td>\n      <td>IL Campanario Villaggio Resort</td>\n    </tr>\n    <tr>\n      <th>462</th>\n      <td>462</td>\n      <td>xuddur</td>\n      <td>SO</td>\n      <td>1612079609</td>\n      <td>4.1213</td>\n      <td>43.8894</td>\n      <td>29.35</td>\n      <td>29</td>\n      <td>0</td>\n      <td>8.21</td>\n      <td>Hotel Kontome 2</td>\n    </tr>\n    <tr>\n      <th>481</th>\n      <td>481</td>\n      <td>pokaran</td>\n      <td>IN</td>\n      <td>1612079613</td>\n      <td>26.9167</td>\n      <td>71.9167</td>\n      <td>26.74</td>\n      <td>12</td>\n      <td>0</td>\n      <td>3.15</td>\n      <td>WelcomHeritage Shri Mohangarh Fort</td>\n    </tr>\n    <tr>\n      <th>482</th>\n      <td>482</td>\n      <td>sur</td>\n      <td>OM</td>\n      <td>1612079389</td>\n      <td>22.5667</td>\n      <td>59.5289</td>\n      <td>24.90</td>\n      <td>40</td>\n      <td>0</td>\n      <td>2.97</td>\n      <td>Turtle Beach Resort</td>\n    </tr>\n    <tr>\n      <th>493</th>\n      <td>493</td>\n      <td>faya</td>\n      <td>SA</td>\n      <td>1612079614</td>\n      <td>18.3851</td>\n      <td>42.4509</td>\n      <td>21.00</td>\n      <td>26</td>\n      <td>0</td>\n      <td>2.06</td>\n      <td>Grand house abha</td>\n    </tr>\n    <tr>\n      <th>494</th>\n      <td>494</td>\n      <td>chakulia</td>\n      <td>IN</td>\n      <td>1612079615</td>\n      <td>22.4833</td>\n      <td>86.7167</td>\n      <td>23.00</td>\n      <td>18</td>\n      <td>0</td>\n      <td>2.06</td>\n      <td>Rimil Lodge</td>\n    </tr>\n    <tr>\n      <th>506</th>\n      <td>506</td>\n      <td>basti</td>\n      <td>IN</td>\n      <td>1612079616</td>\n      <td>26.8000</td>\n      <td>82.7167</td>\n      <td>20.59</td>\n      <td>33</td>\n      <td>0</td>\n      <td>2.27</td>\n      <td>Ramprastha Hotel, Ayodhya</td>\n    </tr>\n    <tr>\n      <th>519</th>\n      <td>519</td>\n      <td>prieska</td>\n      <td>ZA</td>\n      <td>1612079618</td>\n      <td>-29.6641</td>\n      <td>22.7474</td>\n      <td>29.33</td>\n      <td>13</td>\n      <td>0</td>\n      <td>2.59</td>\n      <td>Excelsior River Cottage</td>\n    </tr>\n  </tbody>\n</table>\n</div>"
     },
     "metadata": {},
     "execution_count": 47
    }
   ],
   "source": [
    "hotel_df"
   ]
  },
  {
   "cell_type": "code",
   "execution_count": 48,
   "metadata": {},
   "outputs": [],
   "source": [
    "# NOTE: Do not change any of the code in this cell\n",
    "\n",
    "# Using the template add the hotel marks to the heatmap\n",
    "info_box_template = \"\"\"\n",
    "<dl>\n",
    "<dt>Name</dt><dd>{Hotel Name}</dd>\n",
    "<dt>City</dt><dd>{City}</dd>\n",
    "<dt>Country</dt><dd>{Country}</dd>\n",
    "</dl>\n",
    "\"\"\"\n",
    "# Store the DataFrame Row\n",
    "# NOTE: be sure to update with your DataFrame name\n",
    "hotel_info = [info_box_template.format(**row) for index, row in hotel_df.iterrows()]\n",
    "locations = hotel_df[[\"Latitude\", \"Longitude\"]]\n"
   ]
  },
  {
   "cell_type": "code",
   "execution_count": 49,
   "metadata": {},
   "outputs": [
    {
     "output_type": "display_data",
     "data": {
      "text/plain": "Figure(layout=FigureLayout(height='420px'))",
      "application/vnd.jupyter.widget-view+json": {
       "version_major": 2,
       "version_minor": 0,
       "model_id": "f80011b998ef4827aaacc1a21e57c7cd"
      }
     },
     "metadata": {}
    }
   ],
   "source": [
    "# Add marker layer ontop of heat map\n",
    "markers = gmaps.marker_layer(locations, info_box_content=hotel_info)\n",
    "fig.add_layer(markers)\n",
    "\n",
    "# Display figure\n",
    "fig"
   ]
  },
  {
   "cell_type": "code",
   "execution_count": null,
   "metadata": {},
   "outputs": [],
   "source": []
  }
 ],
 "metadata": {
  "kernelspec": {
   "name": "python3",
   "display_name": "Python 3.8.3 64-bit (conda)",
   "metadata": {
    "interpreter": {
     "hash": "1967d762c769939a2291d44347683792873ab5f7dbb8a8895d3a32369559e71d"
    }
   }
  },
  "language_info": {
   "codemirror_mode": {
    "name": "ipython",
    "version": 3
   },
   "file_extension": ".py",
   "mimetype": "text/x-python",
   "name": "python",
   "nbconvert_exporter": "python",
   "pygments_lexer": "ipython3",
   "version": "3.8.3-final"
  },
  "latex_envs": {
   "LaTeX_envs_menu_present": true,
   "autoclose": false,
   "autocomplete": true,
   "bibliofile": "biblio.bib",
   "cite_by": "apalike",
   "current_citInitial": 1,
   "eqLabelWithNumbers": true,
   "eqNumInitial": 1,
   "hotkeys": {
    "equation": "Ctrl-E",
    "itemize": "Ctrl-I"
   },
   "labels_anchors": false,
   "latex_user_defs": false,
   "report_style_numbering": false,
   "user_envs_cfg": false
  }
 },
 "nbformat": 4,
 "nbformat_minor": 4
}